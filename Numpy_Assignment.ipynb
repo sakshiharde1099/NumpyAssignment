{
  "nbformat": 4,
  "nbformat_minor": 0,
  "metadata": {
    "colab": {
      "provenance": []
    },
    "kernelspec": {
      "name": "python3",
      "display_name": "Python 3"
    },
    "language_info": {
      "name": "python"
    }
  },
  "cells": [
    {
      "cell_type": "code",
      "execution_count": null,
      "metadata": {
        "id": "qPZjFOUewSPt"
      },
      "outputs": [],
      "source": [
        "# 1. Explain the purpose and advantages of numpy in scientific computing and data analysis. How does it enhance pythons capabilities for numerical\n",
        "operations\n",
        "NumPy is essential in scientific computing and data analysis because it provides fast,\n",
        " efficient array operations that are much more performant than Python lists. With support for large, multi-dimensional arrays and matrices,\n",
        "  it enables complex mathematical operations, matrix manipulations, and statistical calculations with minimal code.\n",
        "\n",
        "  Advantages of NumPy:\n",
        "Speed: NumPy operations are significantly faster than equivalent operations on Python lists due to its C implementation.\n",
        "Memory Efficiency: NumPy arrays are more memory-efficient than Python lists.\n",
        "Vectorization: Allows for element-wise operations without loops, resulting in cleaner and faster code.\n",
        "Broadcasting: Facilitates operations on arrays of different shapes, making arithmetic operations more flexible.\n",
        "Foundation for Data Science: Forms the core of other libraries like Pandas and SciPy, creating a robust ecosystem for scientific and analytical work.\n",
        "\n",
        "NumPy enhances Python’s numerical capabilities by providing fast, memory-efficient arrays (`ndarray`), enabling vectorized operations that avoid\n",
        "slow Python loops, supporting flexible broadcasting for operations on differently shaped arrays, and offering a wide range of mathematical functions.\n",
        " This makes Python much faster and more powerful for scientific computing and data analysis.\n",
        "\n"
      ]
    },
    {
      "cell_type": "code",
      "source": [
        "# 2. Compare and contrast np.mean() and np.average() functions in NumPy. When would you use one over the other?\n",
        "In NumPy:\n",
        "\n",
        "- `np.mean()` calculates the arithmetic mean (average) of an array along a specified axis.\n",
        " It doesn’t support weighted averages, so it’s ideal for simple averaging tasks.\n",
        "\n",
        "- `np.average()` also calculates the mean but allows specifying weights for each element,\n",
        "making it suitable for weighted averages when elements have different importance.\n",
        "\n",
        "**When to use which:**\n",
        "- Use `np.mean()` for standard averages.\n",
        "- Use `np.average()` when you need a weighted average.\n"
      ],
      "metadata": {
        "id": "OV6AaKIwzY8V"
      },
      "execution_count": null,
      "outputs": []
    },
    {
      "cell_type": "code",
      "source": [
        "# 3. Describe the methods for reversing a NumPy array along different axes. Provide examples for 1D and 2D arrays\n",
        "In NumPy, you can reverse arrays along different axes using slicing or functions like np.flip(). Here’s how to reverse a 1D and 2D array:\n",
        "1D Array Reversal\n",
        "For a 1D array, you can reverse it simply by slicing with [::-1] or using np.flip():\n",
        "\n",
        "import numpy as np\n",
        "# Create a 1D array\n",
        "arr_1d = np.array([1, 2, 3, 4, 5])\n",
        "\n",
        "# Reverse using slicing\n",
        "reversed_1d_slice = arr_1d[::-1]\n",
        "\n",
        "# Reverse using np.flip\n",
        "reversed_1d_flip = np.flip(arr_1d)\n",
        "\n",
        "print(reversed_1d_slice)  # Output: [5 4 3 2 1]\n",
        "print(reversed_1d_flip)   # Output: [5 4 3 2 1]\n",
        "\n",
        "2D Array Reversal\n",
        "For a 2D array, you can reverse along different axes:\n",
        "Reverse along rows (axis=0): Reverse the order of rows.\n",
        "Reverse along columns (axis=1): Reverse the order of columns.\n",
        "Reverse both rows and columns: Reverse the entire array.\n",
        "\n",
        "# Create a 2D array\n",
        "arr_2d = np.array([[1, 2, 3],\n",
        "                   [4, 5, 6],\n",
        "                   [7, 8, 9]])\n",
        "\n",
        "# Reverse rows (axis=0)\n",
        "reversed_rows = np.flip(arr_2d, axis=0)\n",
        "\n",
        "# Reverse columns (axis=1)\n",
        "reversed_columns = np.flip(arr_2d, axis=1)\n",
        "\n",
        "# Reverse both rows and columns\n",
        "reversed_both = np.flip(arr_2d)\n",
        "\n",
        "print(\"Original array:\\n\", arr_2d)\n",
        "print(\"Reversed rows:\\n\", reversed_rows)\n",
        "print(\"Reversed columns:\\n\", reversed_columns)\n",
        "print(\"Reversed both:\\n\", reversed_both)\n",
        "\n"
      ],
      "metadata": {
        "id": "ckrAgWURz3gx"
      },
      "execution_count": null,
      "outputs": []
    },
    {
      "cell_type": "code",
      "source": [
        "# 4.How can you determine the data type of elements in a NumPy array? Discuss the importance of data types in memory management and performance\n",
        "To determine the data type of elements in a NumPy array, you can use the `.dtype` attribute:\n",
        "\n",
        "\n",
        "import numpy as np\n",
        "\n",
        "arr = np.array([1, 2, 3])\n",
        "print(arr.dtype)  # Output: int64 (or int32, depending on the system)\n",
        "\n",
        "\n",
        "### Importance of Data Types in Memory Management and Performance\n",
        "\n",
        "1. **Memory Efficiency**: Different data types use different amounts of memory. For example, `int8` (8-bit integer) uses 1 byte,\n",
        "while `float64` (64-bit floating-point) uses 8 bytes. By choosing an appropriate data type, you can save memory, especially with large datasets.\n",
        "\n",
        "2. **Performance Optimization**: Smaller data types (like `int8` or `float32`) are faster to process because they require less memory\n",
        "bandwidth and cache. This can lead to significant performance gains, particularly in computation-heavy applications.\n",
        "\n",
        "3. **Precision Control**: Data types determine the precision of calculations. For instance, `float32` uses less memory but has lower precision\n",
        " than `float64`. Choosing the right data type balances memory usage and precision as needed for the specific application.\n",
        "\n",
        "By managing data types effectively, you can optimize both the memory footprint and computational speed of numerical applications.\n",
        "\n"
      ],
      "metadata": {
        "id": "mih20Lql1IE7"
      },
      "execution_count": null,
      "outputs": []
    },
    {
      "cell_type": "code",
      "source": [
        "5.  Define ndarrays in NumPy and explain their key features. How do they differ from standard Python lists?\n",
        "In NumPy, an ndarray (n-dimensional array) is the fundamental data structure for handling large arrays and matrices.\n",
        "It is a homogenous, multidimensional array that allows for efficient storage and manipulation of numerical data.\n",
        "\n",
        "Key Features of ndarrays\n",
        "Fixed Size and Homogeneity: All elements in an ndarray have the same data type (e.g., integers, floats), which allows NumPy to allocate a s\n",
        "ingle block of memory and optimize data processing.\n",
        "\n",
        "Multidimensional Support: ndarrays can have any number of dimensions (e.g., 1D, 2D, 3D), making them suitable for\n",
        "handling complex data structures like vectors, matrices, and tensors.\n",
        "\n",
        "Efficient Memory Layout: Data is stored in a contiguous memory block, which improves cache performance and makes mathematical\n",
        "operations faster compared to lists.\n",
        "\n",
        "Broadcasting: NumPy supports broadcasting, which allows element-wise operations between arrays of different shapes, saving the need\n",
        " for reshaping or repeating arrays manually.\n",
        "\n",
        "Rich Functionality: ndarrays come with built-in methods for mathematical operations, such as element-wise addition, matrix multiplication,\n",
        "statistical calculations, and more, enabling complex computations with concise syntax.\n",
        "\n",
        "Differences from Standard Python Lists\n",
        "Memory Efficiency: ndarrays use less memory as they store data in a compact, contiguous block of memory,\n",
        "while Python lists are collections of pointers to individual elements.\n",
        "\n",
        "Faster Operations: NumPy arrays are optimized for numerical computations, with support for vectorized operations that avoid Python loops,\n",
        " resulting in faster execution.\n",
        "\n",
        "Homogeneity vs. Heterogeneity: Lists can store mixed data types (e.g., integers, strings), but ndarrays are homogenous,\n",
        "storing only one data type. This homogeneity enables more efficient processing and storage.\n",
        "\n",
        "Functionality: Unlike lists, ndarrays support a wide range of mathematical and array manipulation functions,\n",
        " making them ideal for scientific and data analysis tasks.\n",
        "\n",
        "\n",
        "\n",
        "\n",
        "\n",
        "\n",
        "\n",
        "\n"
      ],
      "metadata": {
        "id": "QVJeznnr1ypZ"
      },
      "execution_count": null,
      "outputs": []
    },
    {
      "cell_type": "code",
      "source": [
        "# 6. Analyze the performance benefits of NumPy arrays over Python lists for large-scale numerical operations.\n",
        "NumPy arrays outperform Python lists in large-scale numerical operations due to:\n",
        "\n",
        "Contiguous Memory Allocation: NumPy arrays store data in compact, contiguous memory, reducing overhead and improving cache efficiency.\n",
        "Vectorized Operations: Operations on entire arrays are executed directly in optimized C code, avoiding slow Python loops and making\n",
        " calculations much faster.\n",
        "Broadcasting: Allows operations on arrays of different shapes without extra memory or code for reshaping.\n",
        "Reduced Memory Usage: NumPy arrays are homogenous and don’t store type information per element, saving memory, especially with large datasets."
      ],
      "metadata": {
        "id": "UlKsC0Pd2kDH"
      },
      "execution_count": null,
      "outputs": []
    },
    {
      "cell_type": "code",
      "source": [
        "# 7.  Compare vstack() and hstack() functions in NumPy. Provide examples demonstrating their usage and output\n",
        "In NumPy, vstack() and hstack() are used to stack arrays vertically and horizontally, respectively.\n",
        "\n",
        "np.vstack()\n",
        "Purpose: Stacks arrays along the vertical (row-wise) axis.\n",
        "Usage: Useful for combining arrays into more rows.\n",
        "\n",
        "Example:\n",
        "import numpy as np\n",
        "\n",
        "a = np.array([1, 2, 3])\n",
        "b = np.array([4, 5, 6])\n",
        "\n",
        "# Vertical stacking\n",
        "result = np.vstack((a, b))\n",
        "print(result)\n",
        "\n"
      ],
      "metadata": {
        "id": "HcaydZTB2jEK"
      },
      "execution_count": null,
      "outputs": []
    },
    {
      "cell_type": "code",
      "source": [
        "# 8. Explain the differences between fliplr() and flipud() methods in NumPy, including their effects on various array dimensions\n",
        "In NumPy:\n",
        "\n",
        "fliplr(): Flips arrays horizontally (left-right) along the second axis (columns), working on 2D arrays or higher.\n",
        " For example, [[1, 2], [3, 4]] becomes [[2, 1], [4, 3]].\n",
        "\n",
        "flipud(): Flips arrays vertically (up-down) along the first axis (rows), working on arrays of any dimension.\n",
        " For example, [[1, 2], [3, 4]] becomes [[3, 4], [1, 2]].\n",
        "\n",
        "\n",
        " fliplr():\n",
        "Effect: Flips arrays horizontally (left-right).\n",
        "Works on: 2D+ arrays.\n",
        "For 2D: Reverses columns in each row.\n",
        "For 3D: Flips the last axis (columns) in each 2D slice.\n",
        "\n",
        "\n",
        "flipud():\n",
        "Effect: Flips arrays vertically (up-down).\n",
        "Works on: Arrays of any dimension.\n",
        "For 1D: Reverses array order.\n",
        "For 2D: Reverses rows in each column.\n",
        "For 3D: Flips each 2D slice along rows.\n",
        "\n",
        "\n"
      ],
      "metadata": {
        "id": "Er23PZS93wV_"
      },
      "execution_count": null,
      "outputs": []
    },
    {
      "cell_type": "code",
      "source": [
        "# 9. Discuss the functionality of the array_split() method in NumPy. How does it handle uneven splits?\n",
        "The `array_split()` method in NumPy divides an array into a specified number of sub-arrays, even if the array cannot be split evenly.\n",
        "\n",
        "- **Functionality**: It splits an array into nearly equal parts along a specified axis.\n",
        "- **Handling Uneven Splits**: If the array cannot be split evenly, `array_split()` creates sub-arrays of different sizes, with the first\n",
        "sub-arrays being slightly larger.\n",
        "\n",
        "For example, splitting a 7-element array into 3 parts will result in sub-arrays of sizes `[3, 2, 2]`.\n",
        "\n"
      ],
      "metadata": {
        "id": "iGey6-2NAprM"
      },
      "execution_count": null,
      "outputs": []
    },
    {
      "cell_type": "code",
      "source": [
        "# 10.  Explain the concepts of vectorization and broadcasting in NumPy. How do they contribute to efficient array operations?\n",
        "\n",
        "In NumPy:\n",
        "\n",
        "Vectorization: It allows operations to be applied directly to entire arrays, avoiding explicit loops. This leads to faster,\n",
        " more readable code by leveraging optimized, low-level implementations.\n",
        "\n",
        "Broadcasting: Enables operations on arrays of different shapes by \"stretching\" smaller arrays to match the shape of larger ones without copying data. This allows for efficient computation on mismatched dimensions.\n",
        "\n",
        "Together, vectorization and broadcasting enable concise, high-speed operations on large datasets by minimizing Python loops and\n",
        " optimizing memory usage.\n",
        "\n"
      ],
      "metadata": {
        "id": "wPyc7PtqBFKa"
      },
      "execution_count": null,
      "outputs": []
    },
    {
      "cell_type": "code",
      "source": [
        "# 11.  Create a 3x3 NumPy array with random integers between 1 and 100. Then, interchange its rows and columns\n",
        "Here is the 3x3 array with random integers between 1 and 100 and its transposed version:\n",
        "\n",
        "Original Array:\n",
        "[[53, 62, 17],\n",
        " [74, 94, 30],\n",
        " [ 9, 56, 40]]\n",
        "\n",
        "Interchanged Rows and Columns (Transpose):\n",
        "[[53, 74,  9],\n",
        " [62, 94, 56],\n",
        " [17, 30, 40]]\n",
        "\n",
        "\n",
        "\n"
      ],
      "metadata": {
        "id": "AMcx_m61BfwB"
      },
      "execution_count": null,
      "outputs": []
    },
    {
      "cell_type": "code",
      "source": [
        "# 12. Generate a 1D NumPy array with 10 elements. Reshape it into a 2x5 array, then into a 5x2 array\n",
        "Here is the 1D array with 10 elements, along with its reshaped forms:\n",
        "\n",
        "1D Array:\n",
        "[ 1,  2,  3,  4,  5,  6,  7,  8,  9, 10]\n",
        "\n",
        "Reshaped into 2x5 Array:\n",
        "[[ 1,  2,  3,  4,  5],\n",
        " [ 6,  7,  8,  9, 10]]\n",
        "\n",
        "Reshaped into 5x2 Array:\n",
        "[[ 1,  2],\n",
        " [ 3,  4],\n",
        " [ 5,  6],\n",
        " [ 7,  8],\n",
        " [ 9, 10]]\n",
        "\n",
        "\n",
        "\n"
      ],
      "metadata": {
        "id": "wdG1QHvpCODj"
      },
      "execution_count": null,
      "outputs": []
    },
    {
      "cell_type": "code",
      "source": [
        "# 13. Create a 4x4 NumPy array with random float values. Add a border of zeros around it, resulting in a 6x6 array.\n",
        "Here is the original 4x4 array with random float values, and the result after adding a zero border to create a 6x6 array:\n",
        "\n",
        "Original 4x4 Array:\n",
        "[[0.366, 0.519, 0.681, 0.471],\n",
        " [0.922, 0.786, 0.046, 0.365],\n",
        " [0.812, 0.157, 0.206, 0.255],\n",
        " [0.608, 0.129, 0.851, 0.427]]\n",
        "\n",
        "6x6 Array with Zero Border:\n",
        "[[0.    , 0.    , 0.    , 0.    , 0.    , 0.    ],\n",
        " [0.    , 0.366, 0.519, 0.681, 0.471, 0.    ],\n",
        " [0.    , 0.922, 0.786, 0.046, 0.365, 0.    ],\n",
        " [0.    , 0.812, 0.157, 0.206, 0.255, 0.    ],\n",
        " [0.    , 0.608, 0.129, 0.851, 0.427, 0.    ],\n",
        " [0.    , 0.    , 0.    , 0.    , 0.    , 0.    ]]\n",
        "\n"
      ],
      "metadata": {
        "id": "fghi-7k-DD1p"
      },
      "execution_count": null,
      "outputs": []
    },
    {
      "cell_type": "code",
      "source": [
        "# 14.Using NumPy, create an array of integers from 10 to 60 with a step of 5.\n",
        "To create an array of integers from 10 to 60 with a step of 5 in NumPy, you can use:\n",
        "\n",
        "import numpy as np\n",
        "array_step_5 = np.arange(10, 61, 5)\n",
        "\n",
        "This will generate the array [10, 15, 20, 25, 30, 35, 40, 45, 50, 55, 60].\n"
      ],
      "metadata": {
        "collapsed": true,
        "id": "EaR_yRVrDoer"
      },
      "execution_count": null,
      "outputs": []
    },
    {
      "cell_type": "code",
      "source": [
        "# 15. Create a NumPy array of strings ['python', 'numpy', 'pandas']. Apply different case transformations(uppercase,lowercase, title case, etc.) to each element.\n",
        "Here's how to create a NumPy array of strings and apply various case transformations (uppercase, lowercase, title case) to each element.\n",
        "\n",
        "import numpy as np\n",
        "\n",
        "# Create a NumPy array of strings\n",
        "arr = np.array(['python', 'numpy', 'pandas'])\n",
        "\n",
        "# Apply uppercase transformation\n",
        "uppercase_arr = np.char.upper(arr)\n",
        "\n",
        "# Apply lowercase transformation\n",
        "lowercase_arr = np.char.lower(arr)\n",
        "\n",
        "# Apply title case transformation\n",
        "titlecase_arr = np.char.title(arr)\n",
        "\n",
        "print(\"Original Array:\", arr)\n",
        "print(\"Uppercase:\", uppercase_arr)\n",
        "print(\"Lowercase:\", lowercase_arr)\n",
        "print(\"Title Case:\", titlecase_arr)\n",
        "\n",
        "\n"
      ],
      "metadata": {
        "id": "KW4z5dbjEWnl"
      },
      "execution_count": null,
      "outputs": []
    },
    {
      "cell_type": "code",
      "source": [
        "# 16.  Generate a NumPy array of words. Insert a space between each character of every word in the array.\n",
        "\n",
        "import numpy as np\n",
        "\n",
        "# Create a NumPy array of words\n",
        "arr = np.array(['python', 'numpy', 'pandas'])\n",
        "\n",
        "# Insert a space between each character of every word\n",
        "spaced_arr = np.char.join(' ', arr)\n",
        "\n",
        "print(\"Original Array:\", arr)\n",
        "print(\"Spaced Array:\", spaced_arr)"
      ],
      "metadata": {
        "id": "VdYn8YLBEvk6"
      },
      "execution_count": null,
      "outputs": []
    },
    {
      "cell_type": "code",
      "source": [
        "#17. Create two 2D NumPy arrays and perform element-wise addition, subtraction, multiplication, and division.\n",
        "\n",
        "import numpy as np\n",
        "\n",
        "# Create two 2D NumPy arrays\n",
        "array1 = np.array([[1, 2, 3], [4, 5, 6]])\n",
        "array2 = np.array([[7, 8, 9], [10, 11, 12]])\n",
        "\n",
        "# Perform element-wise addition\n",
        "addition = np.add(array1, array2)\n",
        "\n",
        "# Perform element-wise subtraction\n",
        "subtraction = np.subtract(array1, array2)\n",
        "\n",
        "# Perform element-wise multiplication\n",
        "multiplication = np.multiply(array1, array2)\n",
        "\n",
        "# Perform element-wise division\n",
        "division = np.divide(array1, array2)\n",
        "\n",
        "print(\"Array 1:\\n\", array1)\n",
        "print(\"Array 2:\\n\", array2)\n",
        "print(\"\\nElement-wise Addition:\\n\", addition)\n",
        "print(\"\\nElement-wise Subtraction:\\n\", subtraction)\n",
        "print(\"\\nElement-wise Multiplication:\\n\", multiplication)\n",
        "print(\"\\nElement-wise Division:\\n\", division)"
      ],
      "metadata": {
        "id": "MqQ5A1HQE8fF"
      },
      "execution_count": null,
      "outputs": []
    },
    {
      "cell_type": "code",
      "source": [
        "# 18. Use NumPy to create a 5x5 identity matrix, then extract its diagonal elements\n",
        "\n",
        "import numpy as np\n",
        "\n",
        "# Create a 5x5 identity matrix\n",
        "identity_matrix = np.eye(5)\n",
        "\n",
        "# Extract the diagonal elements\n",
        "diagonal_elements = np.diag(identity_matrix)\n",
        "\n",
        "print(\"5x5 Identity Matrix:\\n\", identity_matrix)\n",
        "print(\"\\nDiagonal Elements:\", diagonal_elements)\n",
        "\n"
      ],
      "metadata": {
        "id": "tZsguEIVFH3f"
      },
      "execution_count": null,
      "outputs": []
    },
    {
      "cell_type": "code",
      "source": [
        "# 19.  Generate a NumPy array of 100 random integers between 0 and 1000. Find and display all prime numbers in\n",
        "this array.\n",
        "\n",
        "import numpy as np\n",
        "\n",
        "# Generate a NumPy array of 100 random integers between 0 and 1000\n",
        "random_array = np.random.randint(0, 1000, size=100)\n",
        "\n",
        "# Function to check if a number is prime\n",
        "def is_prime(n):\n",
        "    if n < 2:\n",
        "        return False\n",
        "    for i in range(2, int(n**0.5) + 1):\n",
        "        if n % i == 0:\n",
        "            return False\n",
        "    return True\n",
        "\n",
        "# Find and display all prime numbers in the array\n",
        "prime_numbers = [num for num in random_array if is_prime(num)]\n",
        "\n",
        "print(\"Random Array:\\n\", random_array)\n",
        "print(\"\\nPrime Numbers in the Array:\\n\", prime_numbers)\n",
        "\n"
      ],
      "metadata": {
        "id": "ExFt_81qFgCA"
      },
      "execution_count": null,
      "outputs": []
    },
    {
      "cell_type": "code",
      "source": [
        "# 20.  Create a NumPy array representing daily temperatures for a month. Calculate and display the weekly\n",
        "averages.\n",
        "\n",
        "import numpy as np\n",
        "\n",
        "# Generate a NumPy array representing daily temperatures for 30 days\n",
        "# For example, let's assume temperatures are between 20°C and 35°C\n",
        "daily_temperatures = np.random.uniform(20, 35, size=30)\n",
        "\n",
        "# Reshape the array into a 4x7 array (4 weeks, 7 days per week)\n",
        "weekly_temperatures = daily_temperatures.reshape(4, 7)\n",
        "\n",
        "# Calculate the weekly averages\n",
        "weekly_averages = np.mean(weekly_temperatures, axis=1)\n",
        "\n",
        "print(\"Daily Temperatures for the Month:\\n\", daily_temperatures)\n",
        "print(\"\\nWeekly Temperatures:\\n\", weekly_temperatures)\n",
        "print(\"\\nWeekly Averages:\", weekly_averages)"
      ],
      "metadata": {
        "id": "CKl4nBZnFqvx"
      },
      "execution_count": null,
      "outputs": []
    }
  ]
}